{
  "nbformat": 4,
  "nbformat_minor": 0,
  "metadata": {
    "colab": {
      "provenance": [],
      "gpuType": "T4",
      "toc_visible": true,
      "include_colab_link": true
    },
    "kernelspec": {
      "name": "python3",
      "display_name": "Python 3"
    },
    "language_info": {
      "name": "python"
    },
    "accelerator": "GPU"
  },
  "cells": [
    {
      "cell_type": "markdown",
      "metadata": {
        "id": "view-in-github",
        "colab_type": "text"
      },
      "source": [
        "<a href=\"https://colab.research.google.com/github/velizhask/PemrosesanBahasaAlami-nlp/blob/main/Sentimen%20Analisis.ipynb\" target=\"_parent\"><img src=\"https://colab.research.google.com/assets/colab-badge.svg\" alt=\"Open In Colab\"/></a>"
      ]
    },
    {
      "cell_type": "markdown",
      "source": [
        "# Sentimen Analisis"
      ],
      "metadata": {
        "id": "NmJpsKXt4i0F"
      }
    },
    {
      "cell_type": "code",
      "execution_count": null,
      "metadata": {
        "id": "c6czYi7kqXqL"
      },
      "outputs": [],
      "source": [
        "import numpy as np\n",
        "import pandas as pd\n",
        "import string\n",
        "import re\n",
        "from nltk.tokenize import word_tokenize\n",
        "from nltk.corpus import stopwords\n",
        "from nltk.stem import WordNetLemmatizer, PorterStemmer"
      ]
    },
    {
      "cell_type": "code",
      "source": [
        "from google.colab import drive\n",
        "drive.mount('/content/drive')"
      ],
      "metadata": {
        "id": "MsLSVeendn0R"
      },
      "execution_count": null,
      "outputs": []
    },
    {
      "cell_type": "code",
      "source": [
        "import nltk\n",
        "nltk.download('stopwords')\n",
        "nltk.download('punkt')\n",
        "nltk.download('wordnet')"
      ],
      "metadata": {
        "id": "JeL0B_2nxv5M"
      },
      "execution_count": null,
      "outputs": []
    },
    {
      "cell_type": "code",
      "source": [
        "# Dataset sederhana\n",
        "data = {\n",
        "    'review': [\n",
        "        \"I love this product\",\n",
        "        \"This is the best thing ever\",\n",
        "        \"I hate this item\",\n",
        "        \"Worst purchase I've ever made\",\n",
        "        \"I'm so happy with my purchase\",\n",
        "        \"This is terrible\"\n",
        "    ],\n",
        "    'score': [1, 1, 0, 0, 1, 0]  # 1: positif, 0: negatif\n",
        "}\n",
        "\n",
        "# Membuat DataFrame\n",
        "data = pd.DataFrame(data)"
      ],
      "metadata": {
        "id": "g4Y08dfffNz_"
      },
      "execution_count": null,
      "outputs": []
    },
    {
      "cell_type": "markdown",
      "source": [
        "Data Prepocessing"
      ],
      "metadata": {
        "id": "Iw2qXKebWc2V"
      }
    },
    {
      "cell_type": "code",
      "source": [
        "# Fungsi untuk membersihkan teks\n",
        "def clean_texts(text):\n",
        "    text = text.lower()  # Konversi ke huruf kecil\n",
        "    text = re.sub(r'[^\\w\\s]', '', text)  # Hapus tanda baca\n",
        "    text = re.sub(r'\\d+', '', text)  # Hapus angka\n",
        "    text = re.sub(r'(.)\\1{1,}', r'\\1', text)  # Hapus karakter berulang lebih dari 2 kali\n",
        "    return text\n",
        "\n",
        "data['review'] = data['review'].apply(clean_texts)\n",
        "\n",
        "# Mendapatkan daftar stopwords dalam bahasa Indonesia\n",
        "sw = stopwords.words('indonesian')\n",
        "\n",
        "# Fungsi untuk menghapus stopwords dari token-token kata\n",
        "def remove_stopword(tokens):\n",
        "    tokens = [word for word in tokens if word not in sw and word not in string.punctuation]\n",
        "    return tokens\n",
        "\n",
        "# Inisialisasi lemmatizer dan stemmer\n",
        "lemmatizer = WordNetLemmatizer()\n",
        "stemmer = PorterStemmer()\n",
        "\n",
        "# Fungsi untuk melakukan preprocessing pada teks (lemmatization dan stemming)\n",
        "def preprocess_texts(text):\n",
        "    # Tokenisasi teks\n",
        "    tokens = word_tokenize(text)\n",
        "\n",
        "    # Menghapus stopwords\n",
        "    tokens = remove_stopword(tokens)\n",
        "\n",
        "    # Lemmatization\n",
        "    lemmatized_tokens = [lemmatizer.lemmatize(word) for word in tokens]\n",
        "\n",
        "    # Stemming\n",
        "    stemmed_tokens = [stemmer.stem(word) for word in lemmatized_tokens]\n",
        "\n",
        "    # Menggabungkan token yang sudah diproses menjadi satu string kembali\n",
        "    return ' '.join(stemmed_tokens)\n",
        "\n",
        "# Contoh penerapan preprocess_text pada kolom 'text'\n",
        "data['prepoccess_review'] = data['review'].apply(preprocess_texts)\n",
        "data.head()"
      ],
      "metadata": {
        "id": "tevXNAi1fd-v"
      },
      "execution_count": null,
      "outputs": []
    },
    {
      "cell_type": "markdown",
      "source": [
        "## Vader"
      ],
      "metadata": {
        "id": "fIAcRSRFWrGO"
      }
    },
    {
      "cell_type": "code",
      "source": [
        "!pip install vaderSentiment"
      ],
      "metadata": {
        "id": "l5RFpBL5YkUq"
      },
      "execution_count": null,
      "outputs": []
    },
    {
      "cell_type": "code",
      "source": [
        "from nltk.sentiment.vader import SentimentIntensityAnalyzer\n",
        "\n",
        "# Download VADER lexicon jika belum diunduh\n",
        "nltk.download('vader_lexicon')\n",
        "\n",
        "# Inisialisasi VADER\n",
        "sia = SentimentIntensityAnalyzer()\n",
        "\n",
        "# Fungsi untuk mendapatkan label sentimen dari skor VADER\n",
        "def analyze_sentimentvader(text):\n",
        "    scores = sia.polarity_scores(text)\n",
        "    compound = scores['compound']\n",
        "    if compound >= 0.05:\n",
        "        return 'positive'\n",
        "    elif compound > -0.05 and compound < 0.05:\n",
        "        return 'neutral'\n",
        "    else:\n",
        "        return 'negative'\n",
        "\n",
        "# Menerapkan sentimen analisis pada kolom prepoccess_review\n",
        "data['sentiment_vader'] = data['prepoccess_review'].apply(analyze_sentimentvader)\n",
        "\n",
        "# Menampilkan DataFrame dengan kolom sentimen\n",
        "data"
      ],
      "metadata": {
        "id": "_ANIELQNWt24"
      },
      "execution_count": null,
      "outputs": []
    },
    {
      "cell_type": "markdown",
      "source": [
        "## TextBlob"
      ],
      "metadata": {
        "id": "Hg5SVHBIZs4f"
      }
    },
    {
      "cell_type": "code",
      "source": [
        "!pip install -U textblob"
      ],
      "metadata": {
        "id": "TqQn4ZuzlKw9"
      },
      "execution_count": null,
      "outputs": []
    },
    {
      "cell_type": "code",
      "source": [
        "from textblob import TextBlob\n",
        "\n",
        "# Fungsi untuk mengklasifikasikan sentimen\n",
        "def analyze_sentiment(text):\n",
        "    blob = TextBlob(text)\n",
        "    polarity = blob.sentiment.polarity\n",
        "    if polarity > 0:\n",
        "        return 'positive'\n",
        "    elif polarity == 0:\n",
        "        return 'neutral'\n",
        "    else:\n",
        "        return 'negative'\n",
        "\n",
        "# Menerapkan sentimen analisis pada kolom 'review'\n",
        "data['sentiment_textblob'] = data['prepoccess_review'].apply(analyze_sentiment)\n",
        "\n",
        "# Menampilkan DataFrame dengan kolom sentimen\n",
        "data"
      ],
      "metadata": {
        "id": "7lBbgMYylQv0"
      },
      "execution_count": null,
      "outputs": []
    },
    {
      "cell_type": "markdown",
      "source": [
        "## BERT"
      ],
      "metadata": {
        "id": "au0XK51pZSj0"
      }
    },
    {
      "cell_type": "code",
      "source": [
        "!pip install sentence_transformers"
      ],
      "metadata": {
        "id": "EEaJGEykZZvN"
      },
      "execution_count": null,
      "outputs": []
    },
    {
      "cell_type": "code",
      "source": [
        "from transformers import AutoTokenizer, AutoModelForSequenceClassification, pipeline\n",
        "\n",
        "# Model pre-trained untuk analisis sentimen bahasa Indonesia\n",
        "pretrained_model = \"mdhugol/indonesia-bert-sentiment-classification\"\n",
        "model = AutoModelForSequenceClassification.from_pretrained(pretrained_model)\n",
        "tokenizer = AutoTokenizer.from_pretrained(pretrained_model)\n",
        "\n",
        "# Pipeline untuk analisis sentimen\n",
        "sentiment_analysis = pipeline(\"sentiment-analysis\", model=model, tokenizer=tokenizer)\n",
        "\n",
        "# Label indeks untuk hasil model\n",
        "label_index = {'LABEL_0': 'positive', 'LABEL_1': 'neutral', 'LABEL_2': 'negative'}\n",
        "\n",
        "# Fungsi untuk klasifikasi sentimen dengan label yang diubah\n",
        "def classify_sentiment(text):\n",
        "    result = sentiment_analysis(text)\n",
        "    label = label_index[result[0]['label']]\n",
        "    score = result[0]['score']\n",
        "    return f\"{label} ({score * 100:.3f}%)\"\n",
        "\n",
        "# Terapkan analisis sentimen pada kolom 'prepoccess_review' di DataFrame\n",
        "data['sentiment_bert'] = data['prepoccess_review'].apply(classify_sentiment)\n",
        "# Tampilkan hasil\n",
        "\n",
        "data"
      ],
      "metadata": {
        "id": "CipG5FBtfd94"
      },
      "execution_count": null,
      "outputs": []
    },
    {
      "cell_type": "markdown",
      "source": [
        "## **Soal Praktikum:**\n",
        "\n",
        "*   Silahkan lakukan analisis sentimen menggunakan data masing-masing dengan output berikut:\n",
        "\n",
        "![image.png](data:image/png;base64,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)\n",
        "\n"
      ],
      "metadata": {
        "id": "tXh7LBJ6Uwz5"
      }
    },
    {
      "cell_type": "code",
      "source": [
        "!kaggle datasets download ucupsedaya/gojek-app-reviews-bahasa-indonesia\n",
        "!unzip gojek-app-reviews-bahasa-indonesia.zip"
      ],
      "metadata": {
        "id": "jPaVOrVbx1dd"
      },
      "execution_count": null,
      "outputs": []
    },
    {
      "cell_type": "code",
      "source": [
        "df= pd.read_csv('/content/GojekAppReviewV4.0.0-V4.9.3_Cleaned.csv')\n",
        "df.head()"
      ],
      "metadata": {
        "id": "YVfF45c2x45o"
      },
      "execution_count": null,
      "outputs": []
    },
    {
      "cell_type": "code",
      "source": [
        "# Mengambil hanya kolom 'review' dan 'rating'\n",
        "df = df[['content', 'score']]\n",
        "df"
      ],
      "metadata": {
        "id": "sqFp1SRXyLwZ"
      },
      "execution_count": null,
      "outputs": []
    },
    {
      "cell_type": "code",
      "source": [
        "df.isnull().sum()"
      ],
      "metadata": {
        "id": "gQEVf4WWyOsM"
      },
      "execution_count": null,
      "outputs": []
    },
    {
      "cell_type": "code",
      "source": [
        "pd.reset_option('display.max_colwidth')\n",
        "df = df.dropna()\n",
        "df = df.drop_duplicates()\n",
        "df"
      ],
      "metadata": {
        "id": "mBMgPM4dyTbM"
      },
      "execution_count": null,
      "outputs": []
    },
    {
      "cell_type": "code",
      "source": [
        "!pip install Sastrawi"
      ],
      "metadata": {
        "id": "6SQVCUDiZeP7"
      },
      "execution_count": null,
      "outputs": []
    },
    {
      "cell_type": "code",
      "source": [
        "# Fungsi untuk membersihkan teks\n",
        "def clean_text(text):\n",
        "    text = text.lower()  # Konversi ke huruf kecil\n",
        "    text = re.sub(r'[^\\w\\s]', '', text)  # Hapus tanda baca\n",
        "    text = re.sub(r'\\d+', '', text)  # Hapus angka\n",
        "    text = re.sub(r'(.)\\1{1,}', r'\\1', text)  # Hapus karakter berulang lebih dari 2 kali\n",
        "    return text\n",
        "\n",
        "df['prepocess_text'] = df['content'].apply(clean_text)\n",
        "\n",
        "# Mendapatkan daftar stopwords dalam bahasa Indonesia\n",
        "sw = stopwords.words('indonesian')\n",
        "\n",
        "# Fungsi untuk menghapus stopwords dari token-token kata\n",
        "def remove_stopwords(tokens):\n",
        "    tokens = [word for word in tokens if word not in sw and word not in string.punctuation]\n",
        "    return tokens\n",
        "\n",
        "# Inisialisasi lemmatizer dan stemmer\n",
        "lemmatizer = WordNetLemmatizer()\n",
        "stemmer = PorterStemmer()\n",
        "\n",
        "# Fungsi untuk melakukan preprocessing pada teks (lemmatization dan stemming)\n",
        "def preprocess_text(text):\n",
        "    # Tokenisasi teks\n",
        "    tokens = word_tokenize(text)\n",
        "\n",
        "    # Menghapus stopwords\n",
        "    tokens = remove_stopwords(tokens)\n",
        "\n",
        "    # Lemmatization\n",
        "    lemmatized_tokens = [lemmatizer.lemmatize(word) for word in tokens]\n",
        "\n",
        "    # Stemming\n",
        "    stemmed_tokens = [stemmer.stem(word) for word in lemmatized_tokens]\n",
        "\n",
        "    # Menggabungkan token yang sudah diproses menjadi satu string kembali\n",
        "    return ' '.join(stemmed_tokens)\n",
        "\n",
        "# Contoh penerapan preprocess_text pada kolom 'content'\n",
        "df['prepocess_text'] = df['content'].apply(preprocess_text)\n",
        "df.head()"
      ],
      "metadata": {
        "id": "VxPMisgwyU8f"
      },
      "execution_count": null,
      "outputs": []
    },
    {
      "cell_type": "markdown",
      "source": [
        "`TextBlob`"
      ],
      "metadata": {
        "id": "2ubXpk39Z1oq"
      }
    },
    {
      "cell_type": "code",
      "source": [
        "from textblob import TextBlob\n",
        "\n",
        "# Contoh data review dari dataset yang diberikan\n",
        "data = df['content']\n",
        "\n",
        "# Fungsi untuk mengklasifikasikan sentimen\n",
        "def analyze_sentiment(text):\n",
        "    blob = TextBlob(text)\n",
        "    polarity = blob.sentiment.polarity\n",
        "    if polarity > 0:\n",
        "        return 'positive'\n",
        "    elif polarity == 0:\n",
        "        return 'neutral'\n",
        "    else:\n",
        "        return 'negative'\n",
        "\n",
        "# Menerapkan sentimen analisis pada kolom content\n",
        "df['sentiment_vader'] = df['content'].apply(analyze_sentiment)\n",
        "\n",
        "# Menampilkan DataFrame dengan kolom sentimen\n",
        "df\n"
      ],
      "metadata": {
        "id": "f_eTLYk20SRN"
      },
      "execution_count": null,
      "outputs": []
    },
    {
      "cell_type": "markdown",
      "source": [
        "`Vader`"
      ],
      "metadata": {
        "id": "bIIY343uZ6kL"
      }
    },
    {
      "cell_type": "code",
      "source": [
        "from nltk.sentiment.vader import SentimentIntensityAnalyzer\n",
        "\n",
        "# Download VADER lexicon jika belum diunduh\n",
        "nltk.download('vader_lexicon')\n",
        "\n",
        "# Inisialisasi VADER\n",
        "sia = SentimentIntensityAnalyzer()\n",
        "\n",
        "# Contoh data review dari dataset\n",
        "data = df['content']\n",
        "\n",
        "# Fungsi untuk mendapatkan label sentimen dari skor VADER\n",
        "def analyze_sentiment_vader(text):\n",
        "    scores = sia.polarity_scores(text)\n",
        "    compound = scores['compound']\n",
        "    if compound >= 0.05:\n",
        "        return 'positive'\n",
        "    elif compound > -0.05 and compound < 0.05:\n",
        "        return 'neutral'\n",
        "    else:\n",
        "        return 'negative'\n",
        "\n",
        "# Menerapkan sentimen analisis pada kolom content\n",
        "df['sentiment_blob'] = df['content'].apply(analyze_sentiment_vader)\n",
        "\n",
        "# Menampilkan DataFrame dengan kolom sentimen\n",
        "df"
      ],
      "metadata": {
        "id": "UWOGx3hE1P7t"
      },
      "execution_count": null,
      "outputs": []
    },
    {
      "cell_type": "markdown",
      "source": [
        "`BERT`"
      ],
      "metadata": {
        "id": "kKAk7ZKhZ-ZU"
      }
    },
    {
      "cell_type": "code",
      "source": [
        "from transformers import AutoTokenizer, AutoModelForSequenceClassification, pipeline\n",
        "\n",
        "# Model pre-trained untuk sentimen analisis bahasa Indonesia\n",
        "pretrained_model = \"mdhugol/indonesia-bert-sentiment-classification\"\n",
        "model = AutoModelForSequenceClassification.from_pretrained(pretrained_model)\n",
        "tokenizer = AutoTokenizer.from_pretrained(pretrained_model)\n",
        "\n",
        "# Pipeline untuk sentimen analisis\n",
        "sentiment_analysis = pipeline(\"sentiment-analysis\", model=model, tokenizer=tokenizer)\n",
        "\n",
        "# Label indeks untuk hasil model\n",
        "label_index = {'LABEL_0': 'positive', 'LABEL_1': 'neutral', 'LABEL_2': 'negative'}\n",
        "\n",
        "# Fungsi untuk klasifikasi sentimen dengan label yang diubah\n",
        "def classify_sentiment(text):\n",
        "    result = sentiment_analysis(text)\n",
        "    label = label_index[result[0]['label']]\n",
        "    score = result[0]['score']\n",
        "    return f\"{label} ({score * 100:.3f}%)\"\n",
        "\n",
        "# Terapkan analisis sentimen pada kolom 'text' di DataFrame\n",
        "df['sentiment_bert'] = df['prepocess_text'].apply(classify_sentiment)\n",
        "\n",
        "# Tampilkan hasil\n",
        "df"
      ],
      "metadata": {
        "id": "cJL2QsHTpLCX"
      },
      "execution_count": null,
      "outputs": []
    }
  ]
}